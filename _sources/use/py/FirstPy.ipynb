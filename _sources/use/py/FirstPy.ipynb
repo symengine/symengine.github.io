{
 "cells": [
  {
   "cell_type": "markdown",
   "metadata": {},
   "source": [
    "# Python Bindings"
   ]
  },
  {
   "cell_type": "code",
   "execution_count": 1,
   "metadata": {},
   "outputs": [],
   "source": [
    "from symengine import var\n",
    "from symengine.printing import init_printing"
   ]
  },
  {
   "cell_type": "code",
   "execution_count": 2,
   "metadata": {},
   "outputs": [
    {
     "data": {
      "text/latex": [
       "$4 x y^3 + 4 x z^3 + 6 x^2 y^2 + 6 x^2 z^2 + 4 x^3 y + 4 x^3 z + 4 y z^3 + 6 y^2 z^2 + 4 y^3 z + 12 x y z^2 + 12 x y^2 z + 12 x^2 y z + x^4 + y^4 + z^4$"
      ],
      "text/plain": [
       "4*x*y**3 + 4*x*z**3 + 6*x**2*y**2 + 6*x**2*z**2 + 4*x**3*y + 4*x**3*z + 4*y*z**3 + 6*y**2*z**2 + 4*y**3*z + 12*x*y*z**2 + 12*x*y**2*z + 12*x**2*y*z + x**4 + y**4 + z**4"
      ]
     },
     "execution_count": 2,
     "metadata": {},
     "output_type": "execute_result"
    }
   ],
   "source": [
    "init_printing()\n",
    "var(\"x y z\")\n",
    "e = (x+y+z)**4\n",
    "e.expand()"
   ]
  }
 ],
 "metadata": {
  "jupytext": {
   "formats": "ipynb,md:myst",
   "text_representation": {
    "extension": ".md",
    "format_name": "myst",
    "format_version": 0.12,
    "jupytext_version": "1.6.0"
   }
  },
  "kernelspec": {
   "display_name": "Python 3",
   "language": "python",
   "name": "python3"
  },
  "language_info": {
   "codemirror_mode": {
    "name": "ipython",
    "version": 3
   },
   "file_extension": ".py",
   "mimetype": "text/x-python",
   "name": "python",
   "nbconvert_exporter": "python",
   "pygments_lexer": "ipython3",
   "version": "3.9.0"
  },
  "source_map": [
   13,
   17,
   22
  ]
 },
 "nbformat": 4,
 "nbformat_minor": 4
}