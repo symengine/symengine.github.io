{
 "cells": [
  {
   "cell_type": "markdown",
   "metadata": {},
   "source": [
    "# Matrices"
   ]
  },
  {
   "cell_type": "code",
   "execution_count": 1,
   "metadata": {},
   "outputs": [],
   "source": [
    "#include <chrono>\n",
    "#include <xcpp/xdisplay.hpp>\n",
    "\n",
    "#include <symengine/matrix.h>\n",
    "#include <symengine/add.h>\n",
    "#include <symengine/pow.h>\n",
    "#include <symengine/symengine_exception.h>\n",
    "#include <symengine/visitor.h>"
   ]
  },
  {
   "cell_type": "code",
   "execution_count": 2,
   "metadata": {},
   "outputs": [],
   "source": [
    "SymEngine::vec_basic elems{SymEngine::integer(1),\n",
    "                           SymEngine::integer(0),\n",
    "                           SymEngine::integer(-1),\n",
    "                           SymEngine::integer(-2)};\n",
    "SymEngine::DenseMatrix A = SymEngine::DenseMatrix(2, 2, elems);"
   ]
  },
  {
   "cell_type": "code",
   "execution_count": 3,
   "metadata": {},
   "outputs": [
    {
     "data": {
      "text/plain": [
       "\"[1, 0]\n",
       "[-1, -2]\n",
       "\""
      ]
     },
     "execution_count": 3,
     "metadata": {},
     "output_type": "execute_result"
    }
   ],
   "source": [
    "A.__str__()"
   ]
  }
 ],
 "metadata": {
  "jupytext": {
   "formats": "ipynb,md:myst",
   "text_representation": {
    "extension": ".md",
    "format_name": "myst",
    "format_version": 0.12,
    "jupytext_version": "1.6.0"
   }
  },
  "kernelspec": {
   "display_name": "C++11",
   "language": "C++11",
   "name": "xcpp11"
  },
  "language_info": {
   "codemirror_mode": "text/x-c++src",
   "file_extension": ".cpp",
   "mimetype": "text/x-c++src",
   "name": "c++",
   "version": "11"
  },
  "source_map": [
   13,
   17,
   28,
   36
  ]
 },
 "nbformat": 4,
 "nbformat_minor": 4
}